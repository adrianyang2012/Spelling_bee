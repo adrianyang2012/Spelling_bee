{
  "nbformat": 4,
  "nbformat_minor": 0,
  "metadata": {
    "colab": {
      "private_outputs": true,
      "provenance": [],
      "authorship_tag": "ABX9TyNK8UEvPBB1EALvjBTZqjTe",
      "include_colab_link": true
    },
    "kernelspec": {
      "name": "python3",
      "display_name": "Python 3"
    },
    "language_info": {
      "name": "python"
    }
  },
  "cells": [
    {
      "cell_type": "markdown",
      "metadata": {
        "id": "view-in-github",
        "colab_type": "text"
      },
      "source": [
        "<a href=\"https://colab.research.google.com/github/adrianyang2012/Spelling_bee/blob/main/spelling_bee.ipynb\" target=\"_parent\"><img src=\"https://colab.research.google.com/assets/colab-badge.svg\" alt=\"Open In Colab\"/></a>"
      ]
    },
    {
      "cell_type": "code",
      "execution_count": null,
      "metadata": {
        "id": "m2sKjoy28nUC"
      },
      "outputs": [],
      "source": [
        "import random\n",
        "hard_words = [\"depth\",\"forgetting\",\"educate\",\"transient\",\"meticulous\",\"inevitable\",\"vigilant\",\"interrogate\",\"benevolent\",\"consequence\",\"unenforceable\",\"omnipotent\",\"vivacious\",\"precocious\",\"vulnerable\",\"juggle\",\"revolutionary\",\"spontaneous\",\"einsteinium\"]\n",
        "hard_words_order = []\n",
        "places = ['st','nd','rd'] + ['th']*6\n",
        "n = len(hard_words)\n",
        "for i in range(0,n):\n",
        "  word = random.choice(hard_words)\n",
        "  hard_words_order.append(word)\n",
        "  hard_words.remove(word)\n",
        "print(\"[teachers only]\")\n",
        "print(f'word order: {\",\".join(hard_words_order)}')\n",
        "players = []\n",
        "while True:\n",
        "  print('what is the players name(type stop to stop)')\n",
        "  name = input('-->')\n",
        "  if name == 'stop':\n",
        "    break\n",
        "  players.append(name)\n",
        "players_who_losed =[]\n",
        "remaining_players = players[:]\n",
        "def ask_word(player_name):\n",
        "  global correct\n",
        "  global won\n",
        "  print(\"how is the word spelled\")\n",
        "  ans = input('-->')\n",
        "  if ans == hard_words_order[0]:\n",
        "    print('correct')\n",
        "    if len(remaining_players) == 1:\n",
        "      won = 1\n",
        "\n",
        "  else:\n",
        "    correct = 0\n",
        "    print(f'wrong the answer was :{\",\".join(list(hard_words_order[0]))}')\n",
        "    if len(remaining_players) == 1:\n",
        "      remaining_players.append(players_who_losed[-1])\n",
        "      players_who_losed.remove(players_who_losed[-1])\n",
        "    remaining_players.remove(player_name)\n",
        "    players_who_losed.append(player_name)\n",
        "  hard_words_order.remove(hard_words_order[0])\n",
        "def display_score():\n",
        "  for i in range(0,len(players_who_losed)):\n",
        "    print(f\"{len(players_who_losed)-i+1}{places[int(str(len(players_who_losed)-i)[-1])]}. {players_who_losed[i]}\")\n",
        "  print(f'1st. {remaining_players[0]}')\n",
        "  "
      ]
    },
    {
      "cell_type": "code",
      "source": [
        "i = 0\n",
        "won = 0\n",
        "while True:\n",
        "  correct = 1\n",
        "  print(\"it is \" + remaining_players[i%len(remaining_players)] + \"'s turn\")\n",
        "  ask_word(remaining_players[i%len(remaining_players)])\n",
        "  \n",
        "  if correct:\n",
        "    i +=1\n",
        "  if won:\n",
        "    break\n",
        "print('score time!')\n",
        "display_score()"
      ],
      "metadata": {
        "id": "Zrw_vxQoR-An"
      },
      "execution_count": null,
      "outputs": []
    },
    {
      "cell_type": "code",
      "source": [
        "display_score()"
      ],
      "metadata": {
        "id": "Dynh6W3YZAyY"
      },
      "execution_count": null,
      "outputs": []
    }
  ]
}